{
 "cells": [
  {
   "cell_type": "markdown",
   "metadata": {},
   "source": [
    "## Facebook GeoInsights  \n",
    "https://www.facebook.com/geoinsights-portal/   \n",
    "reference paper: https://research.fb.com/publications/facebook-disaster-maps-aggregate-insights-for-crisis-response-recovery/ "
   ]
  },
  {
   "cell_type": "markdown",
   "metadata": {},
   "source": [
    "### Movements between tiles\n",
    "\n",
    "South: 37.49529 | West: -88.156013  \n",
    "North: 41.896911 | East: -84.04232   \n",
    "\n",
    "What specific pairs of map tiles are people moving between more or less often than we would expect based on pre-crisis levels?   \n",
    "\n",
    "This dataset contains information about the number of people moving between tile pairs over a given time period. We measure this during baseline (movement between tile pairs averaged across the three weeks prior to the disaster) as well, so we can understand how many more or fewer people are moving during the disaster period compared to usual. This helps us distinguish disaster related movements from people’s normal migration patterns.  \n",
    "\n",
    "The following metrics are available:  \n",
    "* Date Time - The time period represented by the current map layer.\n",
    "* Starting Location - The region or tile where the movement of the group started.\n",
    "* Ending Location: The region or tile where the movement of the group ended.\n",
    "* Length (km) - The distance traveled in kilometers.\n",
    "* Baseline: People Moving - The total number of people who moved from Starting Location to Ending Location on average during the weeks before the disaster began.\n",
    "* Crisis: People Moving - The total number of people who moved from Starting Location to Ending Location during the time period specified\n",
    "* Difference - The difference between the number of people moving from Starting Location to Ending Location during the disaster compared to before the disaster.\n",
    "* Percent Change - The percentage difference between the number of people moving from Starting Location to Ending Location during the disaster compared to before the disaster.\n",
    "* Standard (Z) Score: The number of standard deviations by which the count of people moving during the crisis differs from the number of people moving during the baseline. Any z-value greater than 4 or smaller than -4 is clipped at 4 or -4.\n"
   ]
  },
  {
   "cell_type": "markdown",
   "metadata": {},
   "source": [
    "### Movements between Administrative Regions\n",
    "South: 37.49529 | West: -88.156013   \n",
    "North: 41.896911 | East: -84.04232  \n",
    "\n",
    "What specific pairs of places (admin regions) are people moving between more or less often than we would expect based on pre-crisis levels?  \n",
    "\n",
    "Movement maps illustrate patterns of movement of groups of people between different neighborhoods or cities over a period of several hours. By understanding these patterns, response organizations can better predict where resources will be needed, gain insight into patterns of evacuation, or predict where traffic will be most congested.  \n",
    "\n",
    "The following metrics are available:  \n",
    "\n",
    "* Date Time - The time period represented by the current map layer.\n",
    "* Starting Location - The region where the movement of the group started.\n",
    "* Ending Location: The region where the movement of the group ended.\n",
    "* Length (km) - The distance traveled in kilometers.\n",
    "* Baseline: People Moving - The total number of people who moved from Starting Location to Ending Location on average during the weeks before the disaster began.\n",
    "* Crisis: People Moving - The total number of people who moved from Starting Location to Ending Location during the time period specified\n",
    "* Difference - The difference between the number of people moving from Starting Location to Ending Location during the disaster compared to before the disaster.\n",
    "* Percent Change - The percentage difference between the number of people moving from Starting Location to Ending Location during the disaster compared to before the disaster.\n",
    "* Standard (Z) Score: The number of standard deviations by which the count of people moving during the crisis differs from the number of people moving during the baseline. Any z-value greater than 4 or smaller than -4 is clipped at 4 or -4."
   ]
  },
  {
   "cell_type": "markdown",
   "metadata": {},
   "source": [
    "### Time conversion\n",
    "GMT to localtime  \n",
    "2020-07-03 0000 - 2020-07-02 2000   \n",
    "2020-07-03 0800 - 2020-07-03 0400   \n",
    "2020-07-03 1600 - 2020-07-03 1200  "
   ]
  },
  {
   "cell_type": "code",
   "execution_count": 11,
   "metadata": {},
   "outputs": [],
   "source": [
    "from datetime import datetime, date, time, timezone\n",
    "import pandas as pd\n",
    "import geopandas\n",
    "from shapely.geometry import LineString"
   ]
  },
  {
   "cell_type": "code",
   "execution_count": 12,
   "metadata": {},
   "outputs": [],
   "source": [
    "def utc_to_local(utc_str):\n",
    "    utc_time = datetime.strptime(time_str,\"%Y-%m-%d %H%M\")\n",
    "    return utc_time.replace(tzinfo=timezone.utc).astimezone(tz=None)"
   ]
  },
  {
   "cell_type": "code",
   "execution_count": 23,
   "metadata": {},
   "outputs": [
    {
     "data": {
      "text/plain": [
       "'2020-07-03 0400'"
      ]
     },
     "execution_count": 23,
     "metadata": {},
     "output_type": "execute_result"
    }
   ],
   "source": [
    "time_str=\"2020-07-03 0800\"\n",
    "local_time = utc_to_local(time_str)\n",
    "local_time.strftime(\"%Y-%m-%d %H%M\")"
   ]
  },
  {
   "cell_type": "markdown",
   "metadata": {},
   "source": [
    "### Interactive Movement Map"
   ]
  },
  {
   "cell_type": "code",
   "execution_count": 3,
   "metadata": {},
   "outputs": [],
   "source": [
    "im_map = \"Indiana Coronavirus Disease Prevention Map Apr 05 2020 Id Interactive Movement Map__2020-07-03.csv\""
   ]
  },
  {
   "cell_type": "code",
   "execution_count": 18,
   "metadata": {},
   "outputs": [
    {
     "data": {
      "text/html": [
       "<div>\n",
       "<style scoped>\n",
       "    .dataframe tbody tr th:only-of-type {\n",
       "        vertical-align: middle;\n",
       "    }\n",
       "\n",
       "    .dataframe tbody tr th {\n",
       "        vertical-align: top;\n",
       "    }\n",
       "\n",
       "    .dataframe thead th {\n",
       "        text-align: right;\n",
       "    }\n",
       "</style>\n",
       "<table border=\"1\" class=\"dataframe\">\n",
       "  <thead>\n",
       "    <tr style=\"text-align: right;\">\n",
       "      <th></th>\n",
       "      <th>utc_date</th>\n",
       "      <th>time</th>\n",
       "      <th>crisis_name</th>\n",
       "      <th>start_polygon_id</th>\n",
       "      <th>start_polygon_names</th>\n",
       "      <th>start_x</th>\n",
       "      <th>start_y</th>\n",
       "      <th>start_name_stack</th>\n",
       "      <th>end_polygon_id</th>\n",
       "      <th>end_polygon_names</th>\n",
       "      <th>end_x</th>\n",
       "      <th>end_y</th>\n",
       "      <th>end_name_stack</th>\n",
       "      <th>length_km</th>\n",
       "      <th>metric_name</th>\n",
       "      <th>metric_value</th>\n",
       "      <th>level</th>\n",
       "      <th>tile_size</th>\n",
       "      <th>country</th>\n",
       "    </tr>\n",
       "  </thead>\n",
       "  <tbody>\n",
       "    <tr>\n",
       "      <th>0</th>\n",
       "      <td>2020-07-03</td>\n",
       "      <td>08:00</td>\n",
       "      <td>indiana_coronavirus_disease_prevention_map_apr...</td>\n",
       "      <td>1104919</td>\n",
       "      <td>Winchester</td>\n",
       "      <td>-84.141482</td>\n",
       "      <td>38.024368</td>\n",
       "      <td>Kentucky // Clark // Winchester</td>\n",
       "      <td>1104958</td>\n",
       "      <td>Lexington-Fayette Northwest</td>\n",
       "      <td>-84.474341</td>\n",
       "      <td>38.135525</td>\n",
       "      <td>Kentucky // Fayette // Lexington-Fayette North...</td>\n",
       "      <td>28.602977</td>\n",
       "      <td>n_baseline</td>\n",
       "      <td>NaN</td>\n",
       "      <td>LEVEL4</td>\n",
       "      <td>14</td>\n",
       "      <td>US</td>\n",
       "    </tr>\n",
       "    <tr>\n",
       "      <th>1</th>\n",
       "      <td>2020-07-03</td>\n",
       "      <td>08:00</td>\n",
       "      <td>indiana_coronavirus_disease_prevention_map_apr...</td>\n",
       "      <td>1104919</td>\n",
       "      <td>Winchester</td>\n",
       "      <td>-84.141482</td>\n",
       "      <td>38.024368</td>\n",
       "      <td>Kentucky // Clark // Winchester</td>\n",
       "      <td>1104958</td>\n",
       "      <td>Lexington-Fayette Northwest</td>\n",
       "      <td>-84.474341</td>\n",
       "      <td>38.135525</td>\n",
       "      <td>Kentucky // Fayette // Lexington-Fayette North...</td>\n",
       "      <td>28.602977</td>\n",
       "      <td>n_crisis</td>\n",
       "      <td>NaN</td>\n",
       "      <td>LEVEL4</td>\n",
       "      <td>14</td>\n",
       "      <td>US</td>\n",
       "    </tr>\n",
       "    <tr>\n",
       "      <th>2</th>\n",
       "      <td>2020-07-03</td>\n",
       "      <td>08:00</td>\n",
       "      <td>indiana_coronavirus_disease_prevention_map_apr...</td>\n",
       "      <td>1104919</td>\n",
       "      <td>Winchester</td>\n",
       "      <td>-84.141482</td>\n",
       "      <td>38.024368</td>\n",
       "      <td>Kentucky // Clark // Winchester</td>\n",
       "      <td>1104958</td>\n",
       "      <td>Lexington-Fayette Northwest</td>\n",
       "      <td>-84.474341</td>\n",
       "      <td>38.135525</td>\n",
       "      <td>Kentucky // Fayette // Lexington-Fayette North...</td>\n",
       "      <td>28.602977</td>\n",
       "      <td>n_difference</td>\n",
       "      <td>NaN</td>\n",
       "      <td>LEVEL4</td>\n",
       "      <td>14</td>\n",
       "      <td>US</td>\n",
       "    </tr>\n",
       "    <tr>\n",
       "      <th>3</th>\n",
       "      <td>2020-07-03</td>\n",
       "      <td>08:00</td>\n",
       "      <td>indiana_coronavirus_disease_prevention_map_apr...</td>\n",
       "      <td>1104919</td>\n",
       "      <td>Winchester</td>\n",
       "      <td>-84.141482</td>\n",
       "      <td>38.024368</td>\n",
       "      <td>Kentucky // Clark // Winchester</td>\n",
       "      <td>1104958</td>\n",
       "      <td>Lexington-Fayette Northwest</td>\n",
       "      <td>-84.474341</td>\n",
       "      <td>38.135525</td>\n",
       "      <td>Kentucky // Fayette // Lexington-Fayette North...</td>\n",
       "      <td>28.602977</td>\n",
       "      <td>percent_change</td>\n",
       "      <td>-23.076923</td>\n",
       "      <td>LEVEL4</td>\n",
       "      <td>14</td>\n",
       "      <td>US</td>\n",
       "    </tr>\n",
       "    <tr>\n",
       "      <th>4</th>\n",
       "      <td>2020-07-03</td>\n",
       "      <td>08:00</td>\n",
       "      <td>indiana_coronavirus_disease_prevention_map_apr...</td>\n",
       "      <td>1104919</td>\n",
       "      <td>Winchester</td>\n",
       "      <td>-84.141482</td>\n",
       "      <td>38.024368</td>\n",
       "      <td>Kentucky // Clark // Winchester</td>\n",
       "      <td>1104958</td>\n",
       "      <td>Lexington-Fayette Northwest</td>\n",
       "      <td>-84.474341</td>\n",
       "      <td>38.135525</td>\n",
       "      <td>Kentucky // Fayette // Lexington-Fayette North...</td>\n",
       "      <td>28.602977</td>\n",
       "      <td>z_score</td>\n",
       "      <td>-0.260623</td>\n",
       "      <td>LEVEL4</td>\n",
       "      <td>14</td>\n",
       "      <td>US</td>\n",
       "    </tr>\n",
       "  </tbody>\n",
       "</table>\n",
       "</div>"
      ],
      "text/plain": [
       "     utc_date   time                                        crisis_name  \\\n",
       "0  2020-07-03  08:00  indiana_coronavirus_disease_prevention_map_apr...   \n",
       "1  2020-07-03  08:00  indiana_coronavirus_disease_prevention_map_apr...   \n",
       "2  2020-07-03  08:00  indiana_coronavirus_disease_prevention_map_apr...   \n",
       "3  2020-07-03  08:00  indiana_coronavirus_disease_prevention_map_apr...   \n",
       "4  2020-07-03  08:00  indiana_coronavirus_disease_prevention_map_apr...   \n",
       "\n",
       "   start_polygon_id start_polygon_names    start_x    start_y  \\\n",
       "0           1104919          Winchester -84.141482  38.024368   \n",
       "1           1104919          Winchester -84.141482  38.024368   \n",
       "2           1104919          Winchester -84.141482  38.024368   \n",
       "3           1104919          Winchester -84.141482  38.024368   \n",
       "4           1104919          Winchester -84.141482  38.024368   \n",
       "\n",
       "                  start_name_stack  end_polygon_id  \\\n",
       "0  Kentucky // Clark // Winchester         1104958   \n",
       "1  Kentucky // Clark // Winchester         1104958   \n",
       "2  Kentucky // Clark // Winchester         1104958   \n",
       "3  Kentucky // Clark // Winchester         1104958   \n",
       "4  Kentucky // Clark // Winchester         1104958   \n",
       "\n",
       "             end_polygon_names      end_x      end_y  \\\n",
       "0  Lexington-Fayette Northwest -84.474341  38.135525   \n",
       "1  Lexington-Fayette Northwest -84.474341  38.135525   \n",
       "2  Lexington-Fayette Northwest -84.474341  38.135525   \n",
       "3  Lexington-Fayette Northwest -84.474341  38.135525   \n",
       "4  Lexington-Fayette Northwest -84.474341  38.135525   \n",
       "\n",
       "                                      end_name_stack  length_km  \\\n",
       "0  Kentucky // Fayette // Lexington-Fayette North...  28.602977   \n",
       "1  Kentucky // Fayette // Lexington-Fayette North...  28.602977   \n",
       "2  Kentucky // Fayette // Lexington-Fayette North...  28.602977   \n",
       "3  Kentucky // Fayette // Lexington-Fayette North...  28.602977   \n",
       "4  Kentucky // Fayette // Lexington-Fayette North...  28.602977   \n",
       "\n",
       "      metric_name  metric_value   level  tile_size country  \n",
       "0      n_baseline           NaN  LEVEL4         14      US  \n",
       "1        n_crisis           NaN  LEVEL4         14      US  \n",
       "2    n_difference           NaN  LEVEL4         14      US  \n",
       "3  percent_change    -23.076923  LEVEL4         14      US  \n",
       "4         z_score     -0.260623  LEVEL4         14      US  "
      ]
     },
     "execution_count": 18,
     "metadata": {},
     "output_type": "execute_result"
    }
   ],
   "source": [
    "im_df = pd.read_csv(im_map)\n",
    "im_df.head()"
   ]
  },
  {
   "cell_type": "code",
   "execution_count": 19,
   "metadata": {},
   "outputs": [],
   "source": [
    "# convert to geopandas\n",
    "im_df['geometry'] =  im_df.apply (lambda row: LineString([(row.start_x,row.start_y),(row.end_x,row.end_y)]), axis=1)"
   ]
  },
  {
   "cell_type": "code",
   "execution_count": 20,
   "metadata": {},
   "outputs": [],
   "source": [
    "im_gdf = geopandas.GeoDataFrame(im_df, geometry='geometry'"
   ]
  },
  {
   "cell_type": "code",
   "execution_count": 21,
   "metadata": {},
   "outputs": [
    {
     "data": {
      "text/plain": [
       "<matplotlib.axes._subplots.AxesSubplot at 0x7fc4bae36518>"
      ]
     },
     "execution_count": 21,
     "metadata": {},
     "output_type": "execute_result"
    },
    {
     "data": {
      "image/png": "[encoded data removed]",
      "text/plain": [
       "<Figure size 432x288 with 1 Axes>"
      ]
     },
     "metadata": {
      "needs_background": "light"
     },
     "output_type": "display_data"
    }
   ],
   "source": [
    "im_gdf.plot()"
   ]
  },
  {
   "cell_type": "code",
   "execution_count": 22,
   "metadata": {},
   "outputs": [],
   "source": [
    "# save as geojson format\n",
    "#im_gdf.to_file(im_map.replace(\".csv\",\".geojson\"), driver='GeoJSON')"
   ]
  },
  {
   "cell_type": "markdown",
   "metadata": {},
   "source": [
    "### Interactive Movement Map: county based expamle"
   ]
  },
  {
   "cell_type": "code",
   "execution_count": null,
   "metadata": {},
   "outputs": [],
   "source": []
  }
 ],
 "metadata": {
  "kernelspec": {
   "display_name": "Python 3",
   "language": "python",
   "name": "python3"
  },
  "language_info": {
   "codemirror_mode": {
    "name": "ipython",
    "version": 3
   },
   "file_extension": ".py",
   "mimetype": "text/x-python",
   "name": "python",
   "nbconvert_exporter": "python",
   "pygments_lexer": "ipython3",
   "version": "3.6.8"
  }
 },
 "nbformat": 4,
 "nbformat_minor": 2
}
