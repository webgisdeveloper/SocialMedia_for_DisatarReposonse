{
 "cells": [
  {
   "cell_type": "markdown",
   "metadata": {},
   "source": [
    "## Facebook GeoInsights  \n",
    "https://www.facebook.com/geoinsights-portal/   \n",
    "reference paper: https://research.fb.com/publications/facebook-disaster-maps-aggregate-insights-for-crisis-response-recovery/ "
   ]
  },
  {
   "cell_type": "markdown",
   "metadata": {},
   "source": [
    "### Movements between tiles\n",
    "\n",
    "South: 37.49529 | West: -88.156013  \n",
    "North: 41.896911 | East: -84.04232   \n",
    "\n",
    "What specific pairs of map tiles are people moving between more or less often than we would expect based on pre-crisis levels?   \n",
    "\n",
    "This dataset contains information about the number of people moving between tile pairs over a given time period. We measure this during baseline (movement between tile pairs averaged across the three weeks prior to the disaster) as well, so we can understand how many more or fewer people are moving during the disaster period compared to usual. This helps us distinguish disaster related movements from people’s normal migration patterns.  \n",
    "\n",
    "The following metrics are available:  \n",
    "* Date Time - The time period represented by the current map layer.\n",
    "* Starting Location - The region or tile where the movement of the group started.\n",
    "* Ending Location: The region or tile where the movement of the group ended.\n",
    "* Length (km) - The distance traveled in kilometers.\n",
    "* Baseline: People Moving - The total number of people who moved from Starting Location to Ending Location on average during the weeks before the disaster began.\n",
    "* Crisis: People Moving - The total number of people who moved from Starting Location to Ending Location during the time period specified\n",
    "* Difference - The difference between the number of people moving from Starting Location to Ending Location during the disaster compared to before the disaster.\n",
    "* Percent Change - The percentage difference between the number of people moving from Starting Location to Ending Location during the disaster compared to before the disaster.\n",
    "* Standard (Z) Score: The number of standard deviations by which the count of people moving during the crisis differs from the number of people moving during the baseline. Any z-value greater than 4 or smaller than -4 is clipped at 4 or -4.\n"
   ]
  },
  {
   "cell_type": "markdown",
   "metadata": {},
   "source": [
    "### Time conversion\n",
    "GMT to localtime  \n",
    "2020-07-03 0000 - 2020-07-02 2000   \n",
    "2020-07-03 0800 - 2020-07-03 0400   \n",
    "2020-07-03 1600 - 2020-07-03 1200  "
   ]
  },
  {
   "cell_type": "code",
   "execution_count": 2,
   "metadata": {},
   "outputs": [],
   "source": [
    "from datetime import datetime, date, time, timezone"
   ]
  },
  {
   "cell_type": "code",
   "execution_count": 12,
   "metadata": {},
   "outputs": [],
   "source": [
    "def utc_to_local(utc_str):\n",
    "    utc_time = datetime.strptime(time_str,\"%Y-%m-%d %H%M\")\n",
    "    return utc_time.replace(tzinfo=timezone.utc).astimezone(tz=None)"
   ]
  },
  {
   "cell_type": "code",
   "execution_count": 23,
   "metadata": {},
   "outputs": [
    {
     "data": {
      "text/plain": [
       "'2020-07-03 0400'"
      ]
     },
     "execution_count": 23,
     "metadata": {},
     "output_type": "execute_result"
    }
   ],
   "source": [
    "time_str=\"2020-07-03 0800\"\n",
    "local_time = utc_to_local(time_str)\n",
    "local_time.strftime(\"%Y-%m-%d %H%M\")"
   ]
  },
  {
   "cell_type": "code",
   "execution_count": null,
   "metadata": {},
   "outputs": [],
   "source": []
  },
  {
   "cell_type": "code",
   "execution_count": null,
   "metadata": {},
   "outputs": [],
   "source": []
  },
  {
   "cell_type": "code",
   "execution_count": null,
   "metadata": {},
   "outputs": [],
   "source": []
  }
 ],
 "metadata": {
  "kernelspec": {
   "display_name": "Python 3",
   "language": "python",
   "name": "python3"
  },
  "language_info": {
   "codemirror_mode": {
    "name": "ipython",
    "version": 3
   },
   "file_extension": ".py",
   "mimetype": "text/x-python",
   "name": "python",
   "nbconvert_exporter": "python",
   "pygments_lexer": "ipython3",
   "version": "3.6.8"
  }
 },
 "nbformat": 4,
 "nbformat_minor": 2
}
